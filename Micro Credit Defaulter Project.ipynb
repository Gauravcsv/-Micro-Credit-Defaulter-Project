{
 "cells": [
  {
   "cell_type": "markdown",
   "id": "cd9e212e",
   "metadata": {},
   "source": [
    "# Micro Credit Defaulter Project  \n",
    "\n",
    "Problem Statement:\n",
    "  \n",
    "A Microfinance Institution (MFI) is an organization that offers financial services to low income populations. MFS becomes very useful when targeting especially the unbanked poor families living in remote areas with not much sources of income. The Microfinance services (MFS) provided by MFI are Group Loans, Agricultural Loans, Individual Business Loans and so on. Many microfinance institutions (MFI), experts and donors are supporting the idea of using mobile financial services (MFS) which they feel are more convenient and efficient, and cost saving, than the traditional high-touch model used since long for the purpose of delivering microfinance services. Though, the MFI industry is primarily focusing on low income families and are very useful in such areas, the implementation of MFS has been uneven with both significant challenges and successes.\n",
    "\n",
    "Today, microfinance is widely accepted as a poverty-reduction tool, representing $70 billion in outstanding loans and a global outreach of 200 million clients. We are working with one such client that is in Telecom Industry. They are a fixed wireless telecommunications network provider. They have launched various products and have developed its business and organization based on the budget operator model, offering better products at Lower Prices to all value conscious customers through a strategy of disruptive innovation that focuses on the subscriber. They understand the importance of communication and how it affects a person’s life, thus, focusing on providing their services and products to low income families and poor customers that can help them in the need of hour. They are collaborating with an MFI to provide micro-credit on mobile balances to be paid back in 5 days. The Consumer is believed to be defaulter if he deviates from the path of paying back the loaned amount within the time duration of 5 days. For the loan amount of 5 (in Indonesian Rupiah), payback amount should be 6 (in Indonesian Rupiah), while, for the loan amount of 10 (in Indonesian Rupiah), the payback amount should be 12 (in Indonesian Rupiah).\n",
    "\n",
    "The sample data is provided to us from our client database. It is hereby given to you for this exercise. In order to improve the selection of customers for the credit, the client wants some predictions that could help them in further investment and improvement in selection of customers.\n",
    "\n",
    "Preliminary Steps \n",
    "\n",
    "Loading the libraries and modules Let's start by loading the essential libraries and modules. We will also set the max columns and max rows display limit to None for Pandas DataFrames to be able to see the whole DataFrame. "
   ]
  },
  {
   "cell_type": "code",
   "execution_count": 1,
   "id": "dd40747f",
   "metadata": {},
   "outputs": [],
   "source": [
    "import pandas as pd\n",
    "import numpy as np\n",
    "import seaborn as sns\n",
    "import matplotlib.pyplot as plt\n",
    "%matplotlib inline\n",
    "import time\n",
    "from datetime import datetime\n",
    "\n",
    "import warnings\n",
    "warnings.filterwarnings('ignore')\n"
   ]
  },
  {
   "cell_type": "code",
   "execution_count": 2,
   "id": "3473e074",
   "metadata": {},
   "outputs": [
    {
     "data": {
      "text/html": [
       "<div>\n",
       "<style scoped>\n",
       "    .dataframe tbody tr th:only-of-type {\n",
       "        vertical-align: middle;\n",
       "    }\n",
       "\n",
       "    .dataframe tbody tr th {\n",
       "        vertical-align: top;\n",
       "    }\n",
       "\n",
       "    .dataframe thead th {\n",
       "        text-align: right;\n",
       "    }\n",
       "</style>\n",
       "<table border=\"1\" class=\"dataframe\">\n",
       "  <thead>\n",
       "    <tr style=\"text-align: right;\">\n",
       "      <th></th>\n",
       "      <th>Unnamed: 0</th>\n",
       "      <th>label</th>\n",
       "      <th>msisdn</th>\n",
       "      <th>aon</th>\n",
       "      <th>daily_decr30</th>\n",
       "      <th>daily_decr90</th>\n",
       "      <th>rental30</th>\n",
       "      <th>rental90</th>\n",
       "      <th>last_rech_date_ma</th>\n",
       "      <th>last_rech_date_da</th>\n",
       "      <th>...</th>\n",
       "      <th>maxamnt_loans30</th>\n",
       "      <th>medianamnt_loans30</th>\n",
       "      <th>cnt_loans90</th>\n",
       "      <th>amnt_loans90</th>\n",
       "      <th>maxamnt_loans90</th>\n",
       "      <th>medianamnt_loans90</th>\n",
       "      <th>payback30</th>\n",
       "      <th>payback90</th>\n",
       "      <th>pcircle</th>\n",
       "      <th>pdate</th>\n",
       "    </tr>\n",
       "  </thead>\n",
       "  <tbody>\n",
       "    <tr>\n",
       "      <th>0</th>\n",
       "      <td>1</td>\n",
       "      <td>0</td>\n",
       "      <td>21408I70789</td>\n",
       "      <td>272.0</td>\n",
       "      <td>3055.050000</td>\n",
       "      <td>3065.150000</td>\n",
       "      <td>220.13</td>\n",
       "      <td>260.13</td>\n",
       "      <td>2.0</td>\n",
       "      <td>0.0</td>\n",
       "      <td>...</td>\n",
       "      <td>6.0</td>\n",
       "      <td>0.0</td>\n",
       "      <td>2.0</td>\n",
       "      <td>12</td>\n",
       "      <td>6</td>\n",
       "      <td>0.0</td>\n",
       "      <td>29.000000</td>\n",
       "      <td>29.000000</td>\n",
       "      <td>UPW</td>\n",
       "      <td>20-07-2016</td>\n",
       "    </tr>\n",
       "    <tr>\n",
       "      <th>1</th>\n",
       "      <td>2</td>\n",
       "      <td>1</td>\n",
       "      <td>76462I70374</td>\n",
       "      <td>712.0</td>\n",
       "      <td>12122.000000</td>\n",
       "      <td>12124.750000</td>\n",
       "      <td>3691.26</td>\n",
       "      <td>3691.26</td>\n",
       "      <td>20.0</td>\n",
       "      <td>0.0</td>\n",
       "      <td>...</td>\n",
       "      <td>12.0</td>\n",
       "      <td>0.0</td>\n",
       "      <td>1.0</td>\n",
       "      <td>12</td>\n",
       "      <td>12</td>\n",
       "      <td>0.0</td>\n",
       "      <td>0.000000</td>\n",
       "      <td>0.000000</td>\n",
       "      <td>UPW</td>\n",
       "      <td>10-08-2016</td>\n",
       "    </tr>\n",
       "    <tr>\n",
       "      <th>2</th>\n",
       "      <td>3</td>\n",
       "      <td>1</td>\n",
       "      <td>17943I70372</td>\n",
       "      <td>535.0</td>\n",
       "      <td>1398.000000</td>\n",
       "      <td>1398.000000</td>\n",
       "      <td>900.13</td>\n",
       "      <td>900.13</td>\n",
       "      <td>3.0</td>\n",
       "      <td>0.0</td>\n",
       "      <td>...</td>\n",
       "      <td>6.0</td>\n",
       "      <td>0.0</td>\n",
       "      <td>1.0</td>\n",
       "      <td>6</td>\n",
       "      <td>6</td>\n",
       "      <td>0.0</td>\n",
       "      <td>0.000000</td>\n",
       "      <td>0.000000</td>\n",
       "      <td>UPW</td>\n",
       "      <td>19-08-2016</td>\n",
       "    </tr>\n",
       "    <tr>\n",
       "      <th>3</th>\n",
       "      <td>4</td>\n",
       "      <td>1</td>\n",
       "      <td>55773I70781</td>\n",
       "      <td>241.0</td>\n",
       "      <td>21.228000</td>\n",
       "      <td>21.228000</td>\n",
       "      <td>159.42</td>\n",
       "      <td>159.42</td>\n",
       "      <td>41.0</td>\n",
       "      <td>0.0</td>\n",
       "      <td>...</td>\n",
       "      <td>6.0</td>\n",
       "      <td>0.0</td>\n",
       "      <td>2.0</td>\n",
       "      <td>12</td>\n",
       "      <td>6</td>\n",
       "      <td>0.0</td>\n",
       "      <td>0.000000</td>\n",
       "      <td>0.000000</td>\n",
       "      <td>UPW</td>\n",
       "      <td>06-06-2016</td>\n",
       "    </tr>\n",
       "    <tr>\n",
       "      <th>4</th>\n",
       "      <td>5</td>\n",
       "      <td>1</td>\n",
       "      <td>03813I82730</td>\n",
       "      <td>947.0</td>\n",
       "      <td>150.619333</td>\n",
       "      <td>150.619333</td>\n",
       "      <td>1098.90</td>\n",
       "      <td>1098.90</td>\n",
       "      <td>4.0</td>\n",
       "      <td>0.0</td>\n",
       "      <td>...</td>\n",
       "      <td>6.0</td>\n",
       "      <td>0.0</td>\n",
       "      <td>7.0</td>\n",
       "      <td>42</td>\n",
       "      <td>6</td>\n",
       "      <td>0.0</td>\n",
       "      <td>2.333333</td>\n",
       "      <td>2.333333</td>\n",
       "      <td>UPW</td>\n",
       "      <td>22-06-2016</td>\n",
       "    </tr>\n",
       "  </tbody>\n",
       "</table>\n",
       "<p>5 rows × 37 columns</p>\n",
       "</div>"
      ],
      "text/plain": [
       "   Unnamed: 0  label       msisdn    aon  daily_decr30  daily_decr90  \\\n",
       "0           1      0  21408I70789  272.0   3055.050000   3065.150000   \n",
       "1           2      1  76462I70374  712.0  12122.000000  12124.750000   \n",
       "2           3      1  17943I70372  535.0   1398.000000   1398.000000   \n",
       "3           4      1  55773I70781  241.0     21.228000     21.228000   \n",
       "4           5      1  03813I82730  947.0    150.619333    150.619333   \n",
       "\n",
       "   rental30  rental90  last_rech_date_ma  last_rech_date_da  ...  \\\n",
       "0    220.13    260.13                2.0                0.0  ...   \n",
       "1   3691.26   3691.26               20.0                0.0  ...   \n",
       "2    900.13    900.13                3.0                0.0  ...   \n",
       "3    159.42    159.42               41.0                0.0  ...   \n",
       "4   1098.90   1098.90                4.0                0.0  ...   \n",
       "\n",
       "   maxamnt_loans30  medianamnt_loans30  cnt_loans90  amnt_loans90  \\\n",
       "0              6.0                 0.0          2.0            12   \n",
       "1             12.0                 0.0          1.0            12   \n",
       "2              6.0                 0.0          1.0             6   \n",
       "3              6.0                 0.0          2.0            12   \n",
       "4              6.0                 0.0          7.0            42   \n",
       "\n",
       "   maxamnt_loans90  medianamnt_loans90  payback30  payback90  pcircle  \\\n",
       "0                6                 0.0  29.000000  29.000000      UPW   \n",
       "1               12                 0.0   0.000000   0.000000      UPW   \n",
       "2                6                 0.0   0.000000   0.000000      UPW   \n",
       "3                6                 0.0   0.000000   0.000000      UPW   \n",
       "4                6                 0.0   2.333333   2.333333      UPW   \n",
       "\n",
       "        pdate  \n",
       "0  20-07-2016  \n",
       "1  10-08-2016  \n",
       "2  19-08-2016  \n",
       "3  06-06-2016  \n",
       "4  22-06-2016  \n",
       "\n",
       "[5 rows x 37 columns]"
      ]
     },
     "execution_count": 2,
     "metadata": {},
     "output_type": "execute_result"
    }
   ],
   "source": [
    "df = pd.read_csv(\"C:\\Micro Credit Project.csv\")\n",
    "df.head()"
   ]
  },
  {
   "cell_type": "raw",
   "id": "d7e97e23",
   "metadata": {},
   "source": [
    "Analysing the Data (EDA)"
   ]
  },
  {
   "cell_type": "code",
   "execution_count": 3,
   "id": "50d5d134",
   "metadata": {},
   "outputs": [
    {
     "data": {
      "text/plain": [
       "Index(['Unnamed: 0', 'label', 'msisdn', 'aon', 'daily_decr30', 'daily_decr90',\n",
       "       'rental30', 'rental90', 'last_rech_date_ma', 'last_rech_date_da',\n",
       "       'last_rech_amt_ma', 'cnt_ma_rech30', 'fr_ma_rech30',\n",
       "       'sumamnt_ma_rech30', 'medianamnt_ma_rech30', 'medianmarechprebal30',\n",
       "       'cnt_ma_rech90', 'fr_ma_rech90', 'sumamnt_ma_rech90',\n",
       "       'medianamnt_ma_rech90', 'medianmarechprebal90', 'cnt_da_rech30',\n",
       "       'fr_da_rech30', 'cnt_da_rech90', 'fr_da_rech90', 'cnt_loans30',\n",
       "       'amnt_loans30', 'maxamnt_loans30', 'medianamnt_loans30', 'cnt_loans90',\n",
       "       'amnt_loans90', 'maxamnt_loans90', 'medianamnt_loans90', 'payback30',\n",
       "       'payback90', 'pcircle', 'pdate'],\n",
       "      dtype='object')"
      ]
     },
     "execution_count": 3,
     "metadata": {},
     "output_type": "execute_result"
    }
   ],
   "source": [
    "df.columns"
   ]
  },
  {
   "cell_type": "code",
   "execution_count": 4,
   "id": "3f75e383",
   "metadata": {},
   "outputs": [
    {
     "data": {
      "text/plain": [
       "(209593, 37)"
      ]
     },
     "execution_count": 4,
     "metadata": {},
     "output_type": "execute_result"
    }
   ],
   "source": [
    "df.shape"
   ]
  },
  {
   "cell_type": "code",
   "execution_count": 5,
   "id": "437e4ef7",
   "metadata": {},
   "outputs": [
    {
     "data": {
      "text/plain": [
       "<bound method DataFrame.info of         Unnamed: 0  label       msisdn     aon  daily_decr30  daily_decr90  \\\n",
       "0                1      0  21408I70789   272.0   3055.050000   3065.150000   \n",
       "1                2      1  76462I70374   712.0  12122.000000  12124.750000   \n",
       "2                3      1  17943I70372   535.0   1398.000000   1398.000000   \n",
       "3                4      1  55773I70781   241.0     21.228000     21.228000   \n",
       "4                5      1  03813I82730   947.0    150.619333    150.619333   \n",
       "...            ...    ...          ...     ...           ...           ...   \n",
       "209588      209589      1  22758I85348   404.0    151.872333    151.872333   \n",
       "209589      209590      1  95583I84455  1075.0     36.936000     36.936000   \n",
       "209590      209591      1  28556I85350  1013.0  11843.111670  11904.350000   \n",
       "209591      209592      1  59712I82733  1732.0  12488.228330  12574.370000   \n",
       "209592      209593      1  65061I85339  1581.0   4489.362000   4534.820000   \n",
       "\n",
       "        rental30  rental90  last_rech_date_ma  last_rech_date_da  ...  \\\n",
       "0         220.13    260.13                2.0                0.0  ...   \n",
       "1        3691.26   3691.26               20.0                0.0  ...   \n",
       "2         900.13    900.13                3.0                0.0  ...   \n",
       "3         159.42    159.42               41.0                0.0  ...   \n",
       "4        1098.90   1098.90                4.0                0.0  ...   \n",
       "...          ...       ...                ...                ...  ...   \n",
       "209588   1089.19   1089.19                1.0                0.0  ...   \n",
       "209589   1728.36   1728.36                4.0                0.0  ...   \n",
       "209590   5861.83   8893.20                3.0                0.0  ...   \n",
       "209591    411.83    984.58                2.0               38.0  ...   \n",
       "209592    483.92    631.20               13.0                0.0  ...   \n",
       "\n",
       "        maxamnt_loans30  medianamnt_loans30  cnt_loans90  amnt_loans90  \\\n",
       "0                   6.0                 0.0          2.0            12   \n",
       "1                  12.0                 0.0          1.0            12   \n",
       "2                   6.0                 0.0          1.0             6   \n",
       "3                   6.0                 0.0          2.0            12   \n",
       "4                   6.0                 0.0          7.0            42   \n",
       "...                 ...                 ...          ...           ...   \n",
       "209588              6.0                 0.0          2.0            12   \n",
       "209589              6.0                 0.0          3.0            18   \n",
       "209590             12.0                 0.0          6.0            54   \n",
       "209591             12.0                 0.0          3.0            24   \n",
       "209592             12.0                 0.0          2.0            18   \n",
       "\n",
       "        maxamnt_loans90  medianamnt_loans90  payback30  payback90  pcircle  \\\n",
       "0                     6                 0.0  29.000000  29.000000      UPW   \n",
       "1                    12                 0.0   0.000000   0.000000      UPW   \n",
       "2                     6                 0.0   0.000000   0.000000      UPW   \n",
       "3                     6                 0.0   0.000000   0.000000      UPW   \n",
       "4                     6                 0.0   2.333333   2.333333      UPW   \n",
       "...                 ...                 ...        ...        ...      ...   \n",
       "209588                6                 0.0   1.000000   1.000000      UPW   \n",
       "209589                6                 0.0   1.000000   1.000000      UPW   \n",
       "209590               12                 0.0   4.000000   3.833333      UPW   \n",
       "209591               12                 0.0   0.000000  10.500000      UPW   \n",
       "209592               12                 0.0   0.000000   0.000000      UPW   \n",
       "\n",
       "             pdate  \n",
       "0       20-07-2016  \n",
       "1       10-08-2016  \n",
       "2       19-08-2016  \n",
       "3       06-06-2016  \n",
       "4       22-06-2016  \n",
       "...            ...  \n",
       "209588  17-06-2016  \n",
       "209589  12-06-2016  \n",
       "209590  29-07-2016  \n",
       "209591  25-07-2016  \n",
       "209592  07-07-2016  \n",
       "\n",
       "[209593 rows x 37 columns]>"
      ]
     },
     "execution_count": 5,
     "metadata": {},
     "output_type": "execute_result"
    }
   ],
   "source": [
    "df.info"
   ]
  },
  {
   "cell_type": "code",
   "execution_count": 6,
   "id": "a85c3e06",
   "metadata": {},
   "outputs": [
    {
     "data": {
      "text/plain": [
       "Unnamed: 0                int64\n",
       "label                     int64\n",
       "msisdn                   object\n",
       "aon                     float64\n",
       "daily_decr30            float64\n",
       "daily_decr90            float64\n",
       "rental30                float64\n",
       "rental90                float64\n",
       "last_rech_date_ma       float64\n",
       "last_rech_date_da       float64\n",
       "last_rech_amt_ma          int64\n",
       "cnt_ma_rech30             int64\n",
       "fr_ma_rech30            float64\n",
       "sumamnt_ma_rech30       float64\n",
       "medianamnt_ma_rech30    float64\n",
       "medianmarechprebal30    float64\n",
       "cnt_ma_rech90             int64\n",
       "fr_ma_rech90              int64\n",
       "sumamnt_ma_rech90         int64\n",
       "medianamnt_ma_rech90    float64\n",
       "medianmarechprebal90    float64\n",
       "cnt_da_rech30           float64\n",
       "fr_da_rech30            float64\n",
       "cnt_da_rech90             int64\n",
       "fr_da_rech90              int64\n",
       "cnt_loans30               int64\n",
       "amnt_loans30              int64\n",
       "maxamnt_loans30         float64\n",
       "medianamnt_loans30      float64\n",
       "cnt_loans90             float64\n",
       "amnt_loans90              int64\n",
       "maxamnt_loans90           int64\n",
       "medianamnt_loans90      float64\n",
       "payback30               float64\n",
       "payback90               float64\n",
       "pcircle                  object\n",
       "pdate                    object\n",
       "dtype: object"
      ]
     },
     "execution_count": 6,
     "metadata": {},
     "output_type": "execute_result"
    }
   ],
   "source": [
    "df.dtypes"
   ]
  },
  {
   "cell_type": "code",
   "execution_count": 7,
   "id": "3ec90bbc",
   "metadata": {},
   "outputs": [
    {
     "data": {
      "text/plain": [
       "0"
      ]
     },
     "execution_count": 7,
     "metadata": {},
     "output_type": "execute_result"
    }
   ],
   "source": [
    "df.duplicated().sum()"
   ]
  },
  {
   "cell_type": "code",
   "execution_count": 8,
   "id": "b66f22a3",
   "metadata": {},
   "outputs": [
    {
     "data": {
      "text/plain": [
       "Unnamed: 0              0\n",
       "label                   0\n",
       "msisdn                  0\n",
       "aon                     0\n",
       "daily_decr30            0\n",
       "daily_decr90            0\n",
       "rental30                0\n",
       "rental90                0\n",
       "last_rech_date_ma       0\n",
       "last_rech_date_da       0\n",
       "last_rech_amt_ma        0\n",
       "cnt_ma_rech30           0\n",
       "fr_ma_rech30            0\n",
       "sumamnt_ma_rech30       0\n",
       "medianamnt_ma_rech30    0\n",
       "medianmarechprebal30    0\n",
       "cnt_ma_rech90           0\n",
       "fr_ma_rech90            0\n",
       "sumamnt_ma_rech90       0\n",
       "medianamnt_ma_rech90    0\n",
       "medianmarechprebal90    0\n",
       "cnt_da_rech30           0\n",
       "fr_da_rech30            0\n",
       "cnt_da_rech90           0\n",
       "fr_da_rech90            0\n",
       "cnt_loans30             0\n",
       "amnt_loans30            0\n",
       "maxamnt_loans30         0\n",
       "medianamnt_loans30      0\n",
       "cnt_loans90             0\n",
       "amnt_loans90            0\n",
       "maxamnt_loans90         0\n",
       "medianamnt_loans90      0\n",
       "payback30               0\n",
       "payback90               0\n",
       "pcircle                 0\n",
       "pdate                   0\n",
       "dtype: int64"
      ]
     },
     "execution_count": 8,
     "metadata": {},
     "output_type": "execute_result"
    }
   ],
   "source": [
    "df.isnull().sum()"
   ]
  },
  {
   "cell_type": "code",
   "execution_count": 9,
   "id": "5c2e666c",
   "metadata": {},
   "outputs": [
    {
     "data": {
      "text/plain": [
       "Unnamed: 0              209593\n",
       "label                        2\n",
       "msisdn                  186243\n",
       "aon                       4507\n",
       "daily_decr30            146328\n",
       "daily_decr90            155483\n",
       "rental30                131338\n",
       "rental90                139036\n",
       "last_rech_date_ma         1186\n",
       "last_rech_date_da         1174\n",
       "last_rech_amt_ma            70\n",
       "cnt_ma_rech30               71\n",
       "fr_ma_rech30              1083\n",
       "sumamnt_ma_rech30        15141\n",
       "medianamnt_ma_rech30       510\n",
       "medianmarechprebal30     23907\n",
       "cnt_ma_rech90              110\n",
       "fr_ma_rech90                89\n",
       "sumamnt_ma_rech90        31771\n",
       "medianamnt_ma_rech90       608\n",
       "medianmarechprebal90     22694\n",
       "cnt_da_rech30             1066\n",
       "fr_da_rech30              1072\n",
       "cnt_da_rech90               27\n",
       "fr_da_rech90                46\n",
       "cnt_loans30                 40\n",
       "amnt_loans30                48\n",
       "maxamnt_loans30           1050\n",
       "medianamnt_loans30           6\n",
       "cnt_loans90               1110\n",
       "amnt_loans90                69\n",
       "maxamnt_loans90              3\n",
       "medianamnt_loans90           6\n",
       "payback30                 1363\n",
       "payback90                 2381\n",
       "pcircle                      1\n",
       "pdate                       82\n",
       "dtype: int64"
      ]
     },
     "execution_count": 9,
     "metadata": {},
     "output_type": "execute_result"
    }
   ],
   "source": [
    "df.nunique()"
   ]
  },
  {
   "cell_type": "code",
   "execution_count": 10,
   "id": "b018c612",
   "metadata": {},
   "outputs": [
    {
     "data": {
      "text/plain": [
       "<AxesSubplot:>"
      ]
     },
     "execution_count": 10,
     "metadata": {},
     "output_type": "execute_result"
    },
    {
     "data": {
      "image/png": "[encoded data removed]",
      "text/plain": [
       "<Figure size 432x288 with 2 Axes>"
      ]
     },
     "metadata": {
      "needs_background": "light"
     },
     "output_type": "display_data"
    }
   ],
   "source": [
    "sns.heatmap(df.isnull())"
   ]
  },
  {
   "cell_type": "code",
   "execution_count": 11,
   "id": "0b21c810",
   "metadata": {},
   "outputs": [],
   "source": [
    "df.drop(columns=['Unnamed: 0','pcircle'],axis=1,inplace=True)\n",
    "\n",
    "df.drop('msisdn',axis=1,inplace=True)"
   ]
  },
  {
   "cell_type": "code",
   "execution_count": null,
   "id": "4fcc0e4b",
   "metadata": {},
   "outputs": [],
   "source": [
    "df['pmonth']=pd.to_datetime(df['pdate'],format=\"%Y-%m-%d\").dt.month\n",
    "df['pday']=pd.to_datetime(df['pdate'],format=\"%Y-%m-%d\").dt.day\n",
    "df.drop('pdate',axis=1,inplace=True)"
   ]
  },
  {
   "cell_type": "code",
   "execution_count": null,
   "id": "4e7119d2",
   "metadata": {},
   "outputs": [],
   "source": [
    "df.drop(columns=['medianamnt_loans90','medianamnt_loans30','fr_da_rech90','last_rech_date_da','cnt_da_rech30','fr_da_rech30','cnt_da_rech90'],axis=1,inplace=True)"
   ]
  },
  {
   "cell_type": "code",
   "execution_count": null,
   "id": "d04dcde6",
   "metadata": {},
   "outputs": [],
   "source": [
    "df.describe().T"
   ]
  },
  {
   "cell_type": "raw",
   "id": "67c502ae",
   "metadata": {},
   "source": [
    "Median and maximum amount of loan taken by the user in last 30 days:"
   ]
  },
  {
   "cell_type": "code",
   "execution_count": null,
   "id": "f4e5746c",
   "metadata": {},
   "outputs": [],
   "source": [
    "df.loc[(df['maxamnt_loans30']!=6.0)&(df['maxamnt_loans30']!=12.0)&(df['maxamnt_loans30']"
   ]
  },
  {
   "cell_type": "code",
   "execution_count": null,
   "id": "2fa60420",
   "metadata": {},
   "outputs": [],
   "source": [
    "df.loc[(df['maxamnt_loans30']!=6.0) & (df['maxamnt_loans30']!=12.0) &(df['maxamnt_lo"
   ]
  },
  {
   "cell_type": "code",
   "execution_count": null,
   "id": "f7d32bd6",
   "metadata": {},
   "outputs": [],
   "source": [
    "df['maxamnt_loans30'].value_counts()"
   ]
  },
  {
   "cell_type": "code",
   "execution_count": null,
   "id": "5ea62a62",
   "metadata": {},
   "outputs": [],
   "source": [
    "df['maxamnt_loans90'].value_counts()"
   ]
  },
  {
   "cell_type": "code",
   "execution_count": null,
   "id": "5acd495e",
   "metadata": {},
   "outputs": [],
   "source": [
    "df.drop(df[df['amnt_loans30']==0].index,inplace=True)"
   ]
  },
  {
   "cell_type": "code",
   "execution_count": null,
   "id": "8da1c4f2",
   "metadata": {},
   "outputs": [],
   "source": [
    "numerical_features=[feature for feature in df.columns if df[feature].dtypes != 'O']\n",
    "print(numerical_features)"
   ]
  },
  {
   "cell_type": "code",
   "execution_count": null,
   "id": "5fcec659",
   "metadata": {},
   "outputs": [],
   "source": [
    "plt.figure(figsize=(30,40))\n",
    "plotnumber=1\n",
    "for column in numerical_features:\n",
    "    if plotnumber <=30:\n",
    "        ax=plt.subplot(10,3,plotnumber)\n",
    "        sns.distplot(df[column])\n",
    "        plt.xlabel(column,fontsize=20)\n",
    "    plotnumber+=1\n",
    "plt.tight_layout()"
   ]
  },
  {
   "cell_type": "code",
   "execution_count": null,
   "id": "0293562e",
   "metadata": {},
   "outputs": [],
   "source": [
    "sns.countplot(df['label'])"
   ]
  },
  {
   "cell_type": "code",
   "execution_count": null,
   "id": "637a4c9b",
   "metadata": {},
   "outputs": [],
   "source": [
    "col=['aon', 'daily_decr30', 'daily_decr90', 'rental30', 'rental90', 'last_rech_date_ma', 'last_rech_amt_ma', 'cnt_ma_rech30', 'fr_ma_rech30', 'sumamnt_ma_rech30', 'medianamnt_ma_rech30', 'medianmarechprebal30', 'cnt_ma_rech90', 'fr_ma_rech90', 'sumamnt_ma_rech90', 'medianamnt_ma_rech90', 'medianmarechprebal90', 'cnt_loans30', 'amnt_loans30', 'maxamnt_loans30', 'cnt_loans90', 'amnt_loans90', 'maxamnt_loans90', 'payback30', 'payback90', 'pmonth', 'pday']\n",
    "\n",
    "plt.figure(figsize=(40,100))\n",
    "for i in range(len(col)):\n",
    "    plt.subplot(10,3,i+1)\n",
    "    sns.barplot(x=df['label'],y=df[col[i]],palette='magma')\n",
    "    plt.title(f\"label VS {col[i]}\",fontsize=40)\n",
    "    plt.xticks(fontsize=30)  \n",
    "    plt.yticks(fontsize=30)\n",
    "    plt.xlabel('label',fontsize = 40)\n",
    "    plt.ylabel(col[i],fontsize = 40)\n",
    "    plt.tight_layout()"
   ]
  },
  {
   "cell_type": "code",
   "execution_count": null,
   "id": "422aebf4",
   "metadata": {},
   "outputs": [],
   "source": [
    "plt.figure(figsize=(20,30))\n",
    "for i in range(len(col)):\n",
    "    plt.subplot(8,4,i+1)\n",
    "    sns.boxplot(df[col[i]], palette='icefire')\n",
    "    plt.xlabel(col[i],fontsize =20)\n",
    "    plt.tight_layout()"
   ]
  },
  {
   "cell_type": "code",
   "execution_count": null,
   "id": "d0bf6a0d",
   "metadata": {},
   "outputs": [],
   "source": [
    "plt.figure(figsize=(16,8))\n",
    "df.drop('label', axis=1).corrwith(df['label']).plot(kind='bar',grid=True)\n",
    "plt.xticks(rotation='vertical')\n",
    "plt.title(\"Correlation with target Variable that is label column\",fontsize=25)"
   ]
  },
  {
   "cell_type": "code",
   "execution_count": null,
   "id": "8a85b4d1",
   "metadata": {},
   "outputs": [],
   "source": [
    "plt.figure(figsize=(16,8))\n",
    "sns.countplot(x=\"pday\", hue='label', data=df, palette='rocket')\n",
    "plt.title(\"Customers label according to Date\", fontsize=25)\n",
    "plt.xlabel('Date')\n",
    "plt.ylabel('Counting of Customers')\n",
    "plt.show()\n"
   ]
  },
  {
   "cell_type": "code",
   "execution_count": null,
   "id": "748a7591",
   "metadata": {},
   "outputs": [],
   "source": [
    "plt.figure(figsize=(16,8))\n",
    "sns.countplot(x=\"pmonth\", hue='label', data=df, palette='rocket')\n",
    "plt.title(\"Customers label according to month\", fontsize=25)\n",
    "plt.xlabel('month')\n",
    "plt.ylabel('Counting of Customers')\n",
    "plt.show()"
   ]
  },
  {
   "cell_type": "code",
   "execution_count": null,
   "id": "f5020653",
   "metadata": {},
   "outputs": [],
   "source": [
    "df.hist(figsize=(20,20),color='r')\n",
    "plt.show()"
   ]
  },
  {
   "cell_type": "raw",
   "id": "860086e2",
   "metadata": {},
   "source": [
    "Remove outliers\n"
   ]
  },
  {
   "cell_type": "code",
   "execution_count": null,
   "id": "ef12220d",
   "metadata": {},
   "outputs": [],
   "source": [
    "featr=df[['aon', 'daily_decr30', 'daily_decr90', 'rental30', 'rental90', 'last_rech_d"
   ]
  },
  {
   "cell_type": "raw",
   "id": "3268b3fe",
   "metadata": {},
   "source": [
    "Z-score"
   ]
  },
  {
   "cell_type": "code",
   "execution_count": null,
   "id": "7dbcba17",
   "metadata": {},
   "outputs": [],
   "source": [
    "from scipy.stats import zscore\n",
    "\n",
    "z_score = zscore(df[['label']])\n",
    "abs_zscore = np.abs(z_score)\n",
    "\n",
    "filtering_entry = (abs_zscore < 3).all(axis=1)\n",
    "\n",
    "df = df[filtering_entry]\n",
    "\n",
    "\n",
    "\n",
    "df.describe()"
   ]
  },
  {
   "cell_type": "code",
   "execution_count": null,
   "id": "c44d5d51",
   "metadata": {},
   "outputs": [],
   "source": [
    "from scipy.stats import zscore\n",
    "z=np.abs(zscore(featr))\n",
    "df_new=df[(z<3).all(axis=1)]\n",
    "df_new.shape"
   ]
  },
  {
   "cell_type": "code",
   "execution_count": null,
   "id": "3ddb3c54",
   "metadata": {},
   "outputs": [],
   "source": [
    "cat_df,num_df=[],[]\n",
    "\n",
    "for i in df.columns:\n",
    "    if df[i].dtype==object:\n",
    "        cat_df.append(i)\n",
    "    elif (df[i].dtypes=='int64') | (df[i].dtypes=='float64') | (df[i].dtypes=='int32'):\n",
    "        num_df.append(i)\n",
    "    else: continue\n",
    "        \n",
    "print('Total Number of Feature::', df.shape[1])\n",
    "print('Number of categorical features::', len(cat_df))\n",
    "print('Number of Numerical Feature::', len(num_df))"
   ]
  },
  {
   "cell_type": "code",
   "execution_count": null,
   "id": "48ac8ddb",
   "metadata": {},
   "outputs": [],
   "source": [
    "corr_matrix = df.corr()\n",
    "corr_matrix[\"label\"].sort_values(ascending=False)"
   ]
  },
  {
   "cell_type": "code",
   "execution_count": null,
   "id": "6039260e",
   "metadata": {},
   "outputs": [],
   "source": [
    "plt.figure(figsize=(24,18))\n",
    "sns.heatmap(corr_matrix, annot=True, cmap='icefire')\n",
    "plt.title(\"Correlation Matrix\")\n",
    "plt.show()"
   ]
  },
  {
   "cell_type": "code",
   "execution_count": null,
   "id": "d8cbb732",
   "metadata": {},
   "outputs": [],
   "source": [
    "x = df.drop(columns = [\"label\"], axis=1)\n",
    "y = df[\"label\"]\n",
    "\n",
    "x.skew()"
   ]
  },
  {
   "cell_type": "code",
   "execution_count": null,
   "id": "374a9218",
   "metadata": {},
   "outputs": [],
   "source": [
    "fetr=['aon', 'daily_decr30', 'daily_decr90', 'rental30', 'rental90', 'last_rech_date"
   ]
  },
  {
   "cell_type": "code",
   "execution_count": null,
   "id": "c62d380d",
   "metadata": {},
   "outputs": [],
   "source": [
    "from sklearn.preprocessing import PowerTransformer\n",
    "pt = PowerTransformer(method='yeo-johnson')\n",
    "\n",
    "df[fetr] = pt.fit_transform(df[fetr].values)"
   ]
  },
  {
   "cell_type": "code",
   "execution_count": null,
   "id": "7eacfb10",
   "metadata": {},
   "outputs": [],
   "source": [
    "df[fetr].skew()"
   ]
  },
  {
   "cell_type": "code",
   "execution_count": null,
   "id": "22f23792",
   "metadata": {},
   "outputs": [],
   "source": [
    "plt.figure(figsize=(17,15))\n",
    "sns.heatmap(df.corr(),annot=True,cmap='BrBG',center=0,linewidth=0.5,fmt='0.2f')"
   ]
  },
  {
   "cell_type": "code",
   "execution_count": null,
   "id": "58e7ec92",
   "metadata": {},
   "outputs": [],
   "source": [
    "df_Price=df.loc[:,\"label\"]\n",
    "count,bin_edges=np.histogram(df_Price,bins=10,density=True)  #density=True gives normalized form od bin_edges and count\n",
    "print(count)\n",
    "print(bin_edges)\n",
    "PDF=count/sum(count)\n",
    "CDF=np.cumsum(PDF)  #cdf is sum of all pdf values\n",
    "plt.figure(figsize=(8,6))\n",
    "plt.plot(bin_edges[1:],PDF,label=\"PDF\")\n",
    "plt.plot(bin_edges[1:],CDF,label=\"CDF\")\n",
    "plt.yticks(np.linspace(0,1,20))\n",
    "plt.legend(loc=\"lower left\")\n",
    "plt.show()"
   ]
  },
  {
   "cell_type": "raw",
   "id": "011060b9",
   "metadata": {},
   "source": [
    "Train - Test split:"
   ]
  },
  {
   "cell_type": "code",
   "execution_count": null,
   "id": "4a0ef48b",
   "metadata": {},
   "outputs": [],
   "source": [
    "x=df.drop('label',axis=1)\n",
    "y=df['label']\n",
    "\n",
    "y.value_counts()"
   ]
  },
  {
   "cell_type": "code",
   "execution_count": null,
   "id": "f2627dab",
   "metadata": {},
   "outputs": [],
   "source": [
    "from sklearn.preprocessing import MinMaxScaler\n",
    "scaler=MinMaxScaler()\n",
    "x1 = pd.DataFrame(scaler.fit_transform(x), columns=x.columns)\n",
    "x1.head()"
   ]
  },
  {
   "cell_type": "code",
   "execution_count": null,
   "id": "c7631d00",
   "metadata": {},
   "outputs": [],
   "source": [
    "from sklearn.linear_model import LogisticRegression,SGDClassifier\n",
    "from sklearn.tree import DecisionTreeClassifier\n",
    "from sklearn.svm import SVC\n",
    "from sklearn.neighbors import KNeighborsClassifier\n",
    "from xgboost import XGBClassifier\n",
    "from sklearn.model_selection import train_test_split,GridSearchCV,cross_val_score,KFold\n",
    "from sklearn.metrics import confusion_matrix,classification_report,f1_score,accuracy_score,roc_auc_score,roc_curve\n",
    "from imblearn.over_sampling import SMOTE"
   ]
  },
  {
   "cell_type": "code",
   "execution_count": null,
   "id": "5dfe39b3",
   "metadata": {},
   "outputs": [],
   "source": [
    "x_train,x_test,y_train,y_test=train_test_split(x1,y,test_size=.30,random_state=42)\n",
    "\n",
    "x_train.shape"
   ]
  },
  {
   "cell_type": "raw",
   "id": "55d47efd",
   "metadata": {},
   "source": [
    "VIF (Inspect VIF Factors)"
   ]
  },
  {
   "cell_type": "code",
   "execution_count": null,
   "id": "7339871d",
   "metadata": {},
   "outputs": [],
   "source": [
    "from statsmodels.stats.outliers_influence import variance_inflation_factor\n",
    "\n",
    "vif = pd.DataFrame()\n",
    "vif[\"VIF Factor\"] = [variance_inflation_factor(x1.values, i) for i in range(x1.shape[1])]\n",
    "vif[\"features\"] = x.columns\n",
    "\n",
    "vif.round(1)"
   ]
  },
  {
   "cell_type": "markdown",
   "id": "e2b1e737",
   "metadata": {},
   "source": [
    "Accuracy_score of train-test"
   ]
  },
  {
   "cell_type": "code",
   "execution_count": null,
   "id": "b1264bd0",
   "metadata": {},
   "outputs": [],
   "source": [
    "lg=LogisticRegression()\n",
    "grid={'C':10.0**np.arange(-2,3),'penalty':['l1','l2']}\n",
    "cv=KFold(n_splits=5,shuffle=False,random_state=None)\n",
    "clf=GridSearchCV(lg,grid,cv=cv,n_jobs=-1,scoring='f1_macro')\n",
    "clf.fit(x_train,y_train)"
   ]
  },
  {
   "cell_type": "code",
   "execution_count": null,
   "id": "2c289f54",
   "metadata": {},
   "outputs": [],
   "source": [
    "y_pred=clf.predict(x_test)\n",
    "print(accuracy_score(y_test,y_pred))\n",
    "print(confusion_matrix(y_test,y_pred))\n",
    "print(classification_report(y_test,y_pred))"
   ]
  },
  {
   "cell_type": "code",
   "execution_count": null,
   "id": "64304b94",
   "metadata": {},
   "outputs": [],
   "source": [
    "from sklearn.ensemble import RandomForestClassifier,AdaBoostClassifier,GradientBoostingClassifier,BaggingClassifier\n",
    "from collections import Counter\n",
    "from imblearn.combine import SMOTETomek"
   ]
  },
  {
   "cell_type": "code",
   "execution_count": null,
   "id": "96ce2d01",
   "metadata": {},
   "outputs": [],
   "source": [
    "sm=SMOTETomek(0.9)\n",
    "X_train_sm,Y_train_sm=sm.fit_resample(x_train,y_train)\n",
    "print('before under resampling{}'.format(Counter(y_train)))\n",
    "print('after under resampling{}'.format(Counter(Y_train_sm)))"
   ]
  },
  {
   "cell_type": "raw",
   "id": "a289d486",
   "metadata": {},
   "source": [
    "For understanding sampling, Random sampling uses SMOTETomek for better result"
   ]
  },
  {
   "cell_type": "code",
   "execution_count": null,
   "id": "0bdf25c5",
   "metadata": {},
   "outputs": [],
   "source": [
    "Y_train_sm.value_counts().plot(kind='bar')\n",
    "plt.title('After resampling dataset')"
   ]
  },
  {
   "cell_type": "code",
   "execution_count": null,
   "id": "321dbe9a",
   "metadata": {},
   "outputs": [],
   "source": [
    "clf.fit(X_train_sm,Y_train_sm)\n",
    "y_pred=clf.predict(x_test)\n",
    "print(accuracy_score(y_test,y_pred))\n",
    "print(confusion_matrix(y_test,y_pred))\n",
    "print(classification_report(y_test,y_pred))"
   ]
  },
  {
   "cell_type": "raw",
   "id": "40d65b25",
   "metadata": {},
   "source": [
    "Models :\n",
    "Random Forest Classifier\n",
    "\n",
    "Decision Tree Classifier\n",
    "\n",
    "AdaBoost Classifier\n",
    "\n",
    "GradientBoosting Classifier\n",
    "\n",
    "Bagging Classifier\n",
    "\n",
    "XGB Classifier\n",
    "\n",
    "SGD Classifier"
   ]
  },
  {
   "cell_type": "code",
   "execution_count": null,
   "id": "41780c18",
   "metadata": {},
   "outputs": [],
   "source": [
    "dtc=DecisionTreeClassifier()\n",
    "sgd=SGDClassifier()\n",
    "xgb=XGBClassifier(eval_metric='logloss')"
   ]
  },
  {
   "cell_type": "code",
   "execution_count": null,
   "id": "9a928464",
   "metadata": {},
   "outputs": [],
   "source": [
    "def classifiers(f):\n",
    "    f.fit(X_train_sm,Y_train_sm)\n",
    "    print(f,'\\n',f.score(X_train_sm,Y_train_sm)*100)\n",
    "    f_pred=f.predict(x_test)\n",
    "    scores=cross_val_score(f,X_train_sm,Y_train_sm,cv=5).mean()*100\n",
    "    print('\\n cross value score',scores)\n",
    "    print('ACCURACY SCORE:\\n',accuracy_score(y_test,f_pred)*100)\n",
    "    print('ROC AUC SCORE:\\n',roc_auc_score(y_test,f_pred)*100)\n",
    "    print('CONFUSION MATRIX:\\n',confusion_matrix(y_test,f_pred))\n",
    "    print('CLASSIFICATION REPORT:\\n',classification_report(y_test,f_pred))\n",
    "    return"
   ]
  },
  {
   "cell_type": "raw",
   "id": "b38778c5",
   "metadata": {},
   "source": [
    "Decision Tree Classifier"
   ]
  },
  {
   "cell_type": "code",
   "execution_count": null,
   "id": "e8c1d337",
   "metadata": {},
   "outputs": [],
   "source": [
    "classifiers(dtc)"
   ]
  },
  {
   "cell_type": "raw",
   "id": "d1059703",
   "metadata": {},
   "source": [
    "SGD Classifier"
   ]
  },
  {
   "cell_type": "code",
   "execution_count": null,
   "id": "199728b9",
   "metadata": {},
   "outputs": [],
   "source": [
    "classifiers(sgd)"
   ]
  },
  {
   "cell_type": "raw",
   "id": "89a6f341",
   "metadata": {},
   "source": [
    "XGB Classifier"
   ]
  },
  {
   "cell_type": "code",
   "execution_count": null,
   "id": "19b9c0be",
   "metadata": {},
   "outputs": [],
   "source": [
    "classifiers(xgb)"
   ]
  },
  {
   "cell_type": "code",
   "execution_count": null,
   "id": "260a705a",
   "metadata": {},
   "outputs": [],
   "source": [
    "ensemble=[RandomForestClassifier(),AdaBoostClassifier(),GradientBoostingClassifier(),BaggingClassifier()]\n",
    "for i in ensemble:\n",
    "    i.fit(X_train_sm,Y_train_sm)\n",
    "    print(i,'\\n score: ',i.score(X_train_sm,Y_train_sm)*100)\n",
    "    pred=i.predict(x_test)\n",
    "    print(' F1 score:',f1_score(y_test,pred)*100)\n",
    "    print('Accuracy scoer:',accuracy_score(y_test,pred)*100)\n",
    "    scores=cross_val_score(i,X_train_sm,Y_train_sm,cv=5).mean()*100\n",
    "    print('\\n Cross value score',scores)\n",
    "    print('Confusion_matrix:\\n',confusion_matrix(y_test,pred))\n",
    "    print('Classification report:\\n',classification_report(y_test,pred))\n",
    "    print('\\n')"
   ]
  },
  {
   "cell_type": "raw",
   "id": "41580ddc",
   "metadata": {},
   "source": [
    "Hyperparameter Tuning"
   ]
  },
  {
   "cell_type": "code",
   "execution_count": null,
   "id": "6516e9c8",
   "metadata": {},
   "outputs": [],
   "source": [
    "n_estimators=[int(x) for x in np.linspace(start=0,stop=100,num=10)]\n",
    "max_features=['auto','sqrt','log2']\n",
    "criterion=['gini','entropy']\n",
    "max_depth=[2,4]\n",
    "min_samples_split=[1,2]\n",
    "bootstrap=[True,False]"
   ]
  },
  {
   "cell_type": "code",
   "execution_count": null,
   "id": "14a8c77b",
   "metadata": {},
   "outputs": [],
   "source": [
    "para_grid={'n_estimators':n_estimators,\n",
    "          'max_features':max_features,\n",
    "          'criterion':criterion,\n",
    "          'max_depth':max_depth,\n",
    "          'min_samples_split':min_samples_split,\n",
    "          'bootstrap':bootstrap}"
   ]
  },
  {
   "cell_type": "code",
   "execution_count": null,
   "id": "906c4832",
   "metadata": {},
   "outputs": [],
   "source": [
    "grid=GridSearchCV(RandomForestClassifier(),para_grid,n_jobs=-1)\n",
    "grid.fit(X_train_sm,Y_train_sm)\n",
    "grid.best_params_"
   ]
  },
  {
   "cell_type": "raw",
   "id": "a858317b",
   "metadata": {},
   "source": [
    "ROC & AUC SCORE:"
   ]
  },
  {
   "cell_type": "code",
   "execution_count": null,
   "id": "c2bfca68",
   "metadata": {},
   "outputs": [],
   "source": [
    "rf=RandomForestClassifier(bootstrap=False,criterion='gini',max_depth=None,max_features='sqrt',min_samples_split=7,n_estimators=77)\n",
    "rf.fit(X_train_sm,Y_train_sm)\n",
    "pred_rf=rf.predict(x_test)\n",
    "print(accuracy_score(y_test,pred_rf))\n",
    "print(confusion_matrix(y_test,pred_rf))\n",
    "print(classification_report(y_test,pred_rf))"
   ]
  },
  {
   "cell_type": "code",
   "execution_count": null,
   "id": "20f20093",
   "metadata": {},
   "outputs": [],
   "source": [
    "y_pred_prob=rf.predict_proba(x_test)[:,1]\n",
    "\n",
    "fpr,tpr,thresold=roc_curve(y_test,y_pred_prob)"
   ]
  },
  {
   "cell_type": "code",
   "execution_count": null,
   "id": "137445f7",
   "metadata": {},
   "outputs": [],
   "source": [
    "plt.plot([0,1],[0,1],'k--',label='AUC')\n",
    "plt.plot(fpr,tpr,label='Random Forest Classifiers',color='orange',)\n",
    "print(\"ROC AUC SCORE: \",roc_auc_score(y_test,pred_rf)*100)\n",
    "plt.xlabel('False Positive Rate')\n",
    "plt.ylabel('True Positive Rate')\n",
    "plt.title('Random Forest classification')\n",
    "plt.legend()\n",
    "plt.show()"
   ]
  },
  {
   "cell_type": "raw",
   "id": "92d77abd",
   "metadata": {},
   "source": [
    "Saving best model"
   ]
  },
  {
   "cell_type": "code",
   "execution_count": null,
   "id": "5b811ece",
   "metadata": {},
   "outputs": [],
   "source": [
    "import joblib\n",
    "joblib.dump(rf,'Microcredit.plk')"
   ]
  },
  {
   "cell_type": "code",
   "execution_count": null,
   "id": "287fb912",
   "metadata": {},
   "outputs": [],
   "source": [
    "model=joblib.load(\"Microcredit.plk\")"
   ]
  },
  {
   "cell_type": "raw",
   "id": "08c029ec",
   "metadata": {},
   "source": [
    "Prediction"
   ]
  },
  {
   "cell_type": "code",
   "execution_count": null,
   "id": "24f61985",
   "metadata": {},
   "outputs": [],
   "source": [
    "prediction = model.predict(x_test)\n",
    "prediction=pd.DataFrame(prediction)\n",
    "prediction"
   ]
  }
 ],
 "metadata": {
  "kernelspec": {
   "display_name": "Python 3 (ipykernel)",
   "language": "python",
   "name": "python3"
  },
  "language_info": {
   "codemirror_mode": {
    "name": "ipython",
    "version": 3
   },
   "file_extension": ".py",
   "mimetype": "text/x-python",
   "name": "python",
   "nbconvert_exporter": "python",
   "pygments_lexer": "ipython3",
   "version": "3.9.12"
  }
 },
 "nbformat": 4,
 "nbformat_minor": 5
}
